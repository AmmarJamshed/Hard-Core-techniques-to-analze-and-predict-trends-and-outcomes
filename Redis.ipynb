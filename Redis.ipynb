{
 "cells": [
  {
   "cell_type": "code",
   "execution_count": 1,
   "id": "living-parallel",
   "metadata": {},
   "outputs": [
    {
     "name": "stdout",
     "output_type": "stream",
     "text": [
      "Collecting redis\n",
      "  Downloading redis-3.5.3-py2.py3-none-any.whl (72 kB)\n",
      "Installing collected packages: redis\n",
      "Successfully installed redis-3.5.3\n"
     ]
    }
   ],
   "source": [
    "!pip install redis"
   ]
  },
  {
   "cell_type": "code",
   "execution_count": 25,
   "id": "neither-solution",
   "metadata": {},
   "outputs": [],
   "source": [
    "import redis"
   ]
  },
  {
   "cell_type": "code",
   "execution_count": 26,
   "id": "atomic-testament",
   "metadata": {},
   "outputs": [],
   "source": [
    "con = redis.Redis('localhost')"
   ]
  },
  {
   "cell_type": "markdown",
   "id": "found-gather",
   "metadata": {},
   "source": [
    "# SET"
   ]
  },
  {
   "cell_type": "code",
   "execution_count": 3,
   "id": "tamil-hotel",
   "metadata": {},
   "outputs": [],
   "source": [
    "con.set('mydb','redis');"
   ]
  },
  {
   "cell_type": "markdown",
   "id": "molecular-middle",
   "metadata": {},
   "source": [
    "# Get"
   ]
  },
  {
   "cell_type": "code",
   "execution_count": 4,
   "id": "impressed-computer",
   "metadata": {},
   "outputs": [
    {
     "data": {
      "text/plain": [
       "b'RedIs'"
      ]
     },
     "execution_count": 4,
     "metadata": {},
     "output_type": "execute_result"
    }
   ],
   "source": [
    "con.get('name')"
   ]
  },
  {
   "cell_type": "code",
   "execution_count": 5,
   "id": "instant-graham",
   "metadata": {},
   "outputs": [
    {
     "data": {
      "text/plain": [
       "b'redis'"
      ]
     },
     "execution_count": 5,
     "metadata": {},
     "output_type": "execute_result"
    }
   ],
   "source": [
    "con.get('mydb')"
   ]
  },
  {
   "cell_type": "markdown",
   "id": "spectacular-found",
   "metadata": {},
   "source": [
    "# EXPIRE"
   ]
  },
  {
   "cell_type": "code",
   "execution_count": 9,
   "id": "returning-majority",
   "metadata": {},
   "outputs": [
    {
     "data": {
      "text/plain": [
       "True"
      ]
     },
     "execution_count": 9,
     "metadata": {},
     "output_type": "execute_result"
    }
   ],
   "source": [
    "con.set('mydb','redis',ex=5)"
   ]
  },
  {
   "cell_type": "code",
   "execution_count": 6,
   "id": "suspected-girlfriend",
   "metadata": {},
   "outputs": [
    {
     "data": {
      "text/plain": [
       "b'redis'"
      ]
     },
     "execution_count": 6,
     "metadata": {},
     "output_type": "execute_result"
    }
   ],
   "source": [
    "con.get('mydb')"
   ]
  },
  {
   "cell_type": "markdown",
   "id": "right-scenario",
   "metadata": {},
   "source": [
    "# DELETE"
   ]
  },
  {
   "cell_type": "markdown",
   "id": "hearing-hampshire",
   "metadata": {},
   "source": [
    "# Append"
   ]
  },
  {
   "cell_type": "markdown",
   "id": "civic-detail",
   "metadata": {},
   "source": [
    "# string Length"
   ]
  },
  {
   "cell_type": "markdown",
   "id": "preliminary-camera",
   "metadata": {},
   "source": [
    "# SET RANGE"
   ]
  },
  {
   "cell_type": "markdown",
   "id": "coastal-people",
   "metadata": {},
   "source": [
    "# Key Value Pairs for the exam "
   ]
  },
  {
   "cell_type": "code",
   "execution_count": 21,
   "id": "sharing-prairie",
   "metadata": {},
   "outputs": [],
   "source": [
    "vals = {'Emp1':'2020-01-10','emp2':'2020-02-09', 'emp3':'2020-03-8=08', 'emp4':'2020-04-05', 'emp5':'2020-06-02', 'emp6':'2020-05-04'}"
   ]
  },
  {
   "cell_type": "code",
   "execution_count": 22,
   "id": "expired-cleveland",
   "metadata": {},
   "outputs": [
    {
     "data": {
      "text/plain": [
       "True"
      ]
     },
     "execution_count": 22,
     "metadata": {},
     "output_type": "execute_result"
    }
   ],
   "source": [
    "con.mset(vals)"
   ]
  },
  {
   "cell_type": "code",
   "execution_count": 23,
   "id": "designing-formula",
   "metadata": {},
   "outputs": [
    {
     "name": "stdout",
     "output_type": "stream",
     "text": [
      "[b'2020-01-10', b'2020-02-09', b'2020-03-8=08', b'2020-04-05', b'2020-06-02', b'2020-05-04']\n"
     ]
    }
   ],
   "source": [
    "print(con.mget(vals))"
   ]
  },
  {
   "cell_type": "code",
   "execution_count": 24,
   "id": "taken-forty",
   "metadata": {},
   "outputs": [
    {
     "name": "stdout",
     "output_type": "stream",
     "text": [
      "[b'2020-01-10', b'2020-02-09', b'2020-03-8=08', b'2020-04-05', b'2020-06-02', b'2020-05-04']\n"
     ]
    }
   ],
   "source": [
    "print(con.mget('Emp1', 'emp2', 'emp3', 'emp4', 'emp5', 'emp6'))"
   ]
  },
  {
   "cell_type": "markdown",
   "id": "italian-vegetation",
   "metadata": {},
   "source": [
    "# Display e_name and depno"
   ]
  },
  {
   "cell_type": "code",
   "execution_count": 33,
   "id": "moving-meeting",
   "metadata": {},
   "outputs": [],
   "source": [
    "eals = {\"Marj\":657, \"Sara\":3844, \"Sraf\":780}"
   ]
  },
  {
   "cell_type": "code",
   "execution_count": 39,
   "id": "collect-university",
   "metadata": {},
   "outputs": [
    {
     "data": {
      "text/plain": [
       "False"
      ]
     },
     "execution_count": 39,
     "metadata": {},
     "output_type": "execute_result"
    }
   ],
   "source": [
    "con.msetnx(eals)"
   ]
  },
  {
   "cell_type": "code",
   "execution_count": 40,
   "id": "collectible-cleveland",
   "metadata": {},
   "outputs": [
    {
     "name": "stdout",
     "output_type": "stream",
     "text": [
      "[b'657', b'3844', b'780']\n"
     ]
    }
   ],
   "source": [
    "print(con.mget(\"Marj\", \"Sara\", \"Sraf\"))"
   ]
  },
  {
   "cell_type": "code",
   "execution_count": 42,
   "id": "grand-longitude",
   "metadata": {},
   "outputs": [],
   "source": [
    "r = redis.Redis()"
   ]
  },
  {
   "cell_type": "code",
   "execution_count": 41,
   "id": "effective-vehicle",
   "metadata": {},
   "outputs": [
    {
     "name": "stdout",
     "output_type": "stream",
     "text": [
      "[b'657', b'3844', b'780']\n"
     ]
    }
   ],
   "source": [
    "print(con.mget(eals))"
   ]
  },
  {
   "cell_type": "code",
   "execution_count": 43,
   "id": "rotary-broadcasting",
   "metadata": {},
   "outputs": [
    {
     "data": {
      "text/plain": [
       "[b'657', b'3844', b'780']"
      ]
     },
     "execution_count": 43,
     "metadata": {},
     "output_type": "execute_result"
    }
   ],
   "source": [
    "r.mget(eals)"
   ]
  },
  {
   "cell_type": "code",
   "execution_count": null,
   "id": "opening-debate",
   "metadata": {},
   "outputs": [],
   "source": []
  }
 ],
 "metadata": {
  "kernelspec": {
   "display_name": "Python 3",
   "language": "python",
   "name": "python3"
  },
  "language_info": {
   "codemirror_mode": {
    "name": "ipython",
    "version": 3
   },
   "file_extension": ".py",
   "mimetype": "text/x-python",
   "name": "python",
   "nbconvert_exporter": "python",
   "pygments_lexer": "ipython3",
   "version": "3.8.5"
  }
 },
 "nbformat": 4,
 "nbformat_minor": 5
}
